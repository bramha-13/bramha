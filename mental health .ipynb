{
 "cells": [
  {
   "cell_type": "code",
   "execution_count": 2,
   "id": "51400fb3",
   "metadata": {},
   "outputs": [
    {
     "name": "stdout",
     "output_type": "stream",
     "text": [
      "Hello, please tell me your name: Bramha Nimbalkar\n",
      "{'Riya': 'mental health advisor', 'psychiatrist': 'Thomas'}\n",
      "Enter the name of doctor you'd like to be treated by :Riya\n",
      "Hey Bramha Nimbalkar,I am your doctor, Riya\n",
      "So Bramha Nimbalkar,You can tell me whats happening with you.Im your mental health advisor,but consider me a friend.\n",
      "Tell me how do you feel i feel sad \n",
      "i get that you are not in a good mood,But we can try to find solution,isnt it?\n",
      "I get that you feel sad\n",
      "Ok, So cause of your illness is probably because sadness is a temporary state that often has a clear cause, like a big disappointment, the loss of someone close to you, or bad news from someone you love.\n"
     ]
    }
   ],
   "source": [
    "users_name=input('Hello, please tell me your name: ')\n",
    "dict_of_doctors={'Riya':'mental health advisor','psychiatrist':'Thomas'}\n",
    "list_of_problems=['mood','sad','love','regret','depressed','anxious','anxiety']\n",
    "dict_of_problems={'sad':'sadness is a temporary state that often has a clear cause, like a big disappointment, the loss of someone close to you, or bad news from someone you love.',\n",
    "                 'love':'letting ourselves fall in love because of desire or strong feelings for a person is normal. Passionate love is developed as a result of feelings that lead to sexual attraction, physical interest and romance.',\n",
    "                 'regret':'a bias in ones decision-making, resulting in poor choices being made. Anxiety caused by repeatedly thinking about the perceived better choice or behavior. Chronic feelings of sadness and dysphoria. Varying degrees of guilt.',\n",
    "                 'depressed':'depression is classified as a mood disorder. It may be described as feelings of sadness, loss, or anger that interfere with a person’s everyday activities. ',\n",
    "                 'anxious':'anxiety is a feeling of fear, dread, and uneasiness. It might cause you to sweat, feel restless and tense, and have a rapid heartbeat. It can be a normal reaction to stress.' }\n",
    "                \n",
    "print(dict_of_doctors)\n",
    "\n",
    "name=input(\"Enter the name of doctor you'd like to be treated by :\")\n",
    "if name=='Riya':\n",
    "    print (f'Hey {users_name},I am your doctor, {name}')\n",
    "    print(f'So {users_name},You can tell me whats happening with you.Im your mental health advisor,but consider me a friend.')\n",
    "    user_problem=input('Tell me how do you feel ')\n",
    "    for i in set(user_problem.split()) :\n",
    "        if i in list_of_problems:\n",
    "            print('i get that you are not in a good mood,But we can try to find solution,isnt it?')\n",
    "            print(f'I get that you feel {i}')\n",
    "            print(f'Ok, So cause of your illness is probably because {dict_of_problems.get(i)}')       \n",
    "            break\n",
    "      #  elif i not in list_of_problems :\n",
    "          #  print('Hope, you are doing great')\n",
    "          #  break            \n",
    "elif name=='Thomas':\n",
    "    print (f'Hey {users_name},I am your doctor, {name}')\n",
    "    print(f'So {users_name},You can tell me whats happening with you.Im your psychiatrist,but consider me a friend.')\n",
    "    \n",
    "else:\n",
    "    print('enter doctors name correctly')\n",
    "    \n",
    "\n",
    "    \n"
   ]
  },
  {
   "cell_type": "code",
   "execution_count": 12,
   "id": "3b0cb14d",
   "metadata": {},
   "outputs": [
    {
     "name": "stdout",
     "output_type": "stream",
     "text": [
      "['bramha', 'is', 'dancer']\n"
     ]
    }
   ],
   "source": [
    "user='bramha is dancer'\n",
    "s =user.split()\n",
    "print(s)"
   ]
  },
  {
   "cell_type": "code",
   "execution_count": 6,
   "id": "08e80812",
   "metadata": {},
   "outputs": [
    {
     "name": "stdout",
     "output_type": "stream",
     "text": [
      "1\n"
     ]
    }
   ],
   "source": [
    "dict={'a':1,'b':2}\n",
    "print(dict.get('a'))"
   ]
  },
  {
   "cell_type": "code",
   "execution_count": null,
   "id": "2d545883",
   "metadata": {},
   "outputs": [],
   "source": []
  }
 ],
 "metadata": {
  "kernelspec": {
   "display_name": "Python 3 (ipykernel)",
   "language": "python",
   "name": "python3"
  },
  "language_info": {
   "codemirror_mode": {
    "name": "ipython",
    "version": 3
   },
   "file_extension": ".py",
   "mimetype": "text/x-python",
   "name": "python",
   "nbconvert_exporter": "python",
   "pygments_lexer": "ipython3",
   "version": "3.9.7"
  }
 },
 "nbformat": 4,
 "nbformat_minor": 5
}
